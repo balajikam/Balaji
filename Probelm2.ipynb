{
  "nbformat": 4,
  "nbformat_minor": 0,
  "metadata": {
    "colab": {
      "provenance": [],
      "authorship_tag": "ABX9TyPzyxic6mbglqkOWKBtoY7H",
      "include_colab_link": true
    },
    "kernelspec": {
      "name": "python3",
      "display_name": "Python 3"
    },
    "language_info": {
      "name": "python"
    }
  },
  "cells": [
    {
      "cell_type": "markdown",
      "metadata": {
        "id": "view-in-github",
        "colab_type": "text"
      },
      "source": [
        "<a href=\"https://colab.research.google.com/github/balajikam/Balaji/blob/main/Probelm2.ipynb\" target=\"_parent\"><img src=\"https://colab.research.google.com/assets/colab-badge.svg\" alt=\"Open In Colab\"/></a>"
      ]
    },
    {
      "cell_type": "code",
      "execution_count": 23,
      "metadata": {
        "colab": {
          "base_uri": "https://localhost:8080/"
        },
        "id": "U37UtVa4OsMT",
        "outputId": "0346e2b3-2a05-4f61-9796-dc5e4d020a29"
      },
      "outputs": [
        {
          "output_type": "stream",
          "name": "stdout",
          "text": [
            "Enter the number of calls: 500\n",
            "Monthly Telephone bill Rs:  375.0\n"
          ]
        }
      ],
      "source": [
        "def calculate_telephone_bill(num_calls):\n",
        "  base_charge = 200\n",
        "  calls_0_100 = 100\n",
        "  calls_101_150 = 50\n",
        "  calls_151_200 = 50\n",
        "\n",
        "  if num_calls <= calls_0_100:\n",
        "    total_bill = base_charge\n",
        "  elif num_calls <= calls_0_100 + calls_101_150:\n",
        "    total_bill = base_charge + 0.60 * (num_calls - calls_0_100)\n",
        "  elif num_calls <= calls_0_100 + calls_101_150 + calls_151_200:\n",
        "    total_bill = base_charge + 0.60 * calls_101_150 + 0.50*(num_calls - calls_0_100-calls_101_150)\n",
        "  else:\n",
        "    total_bill =base_charge + 0.60 * calls_101_150 +0.50 * calls_151_200 + 0.40 * (num_calls- calls_0_100 - calls_101_150 - calls_151_200)\n",
        "  return total_bill\n",
        "\n",
        "if __name__ == \"__main__\":\n",
        "  num_calls = int(input(\"Enter the number of calls: \"))\n",
        "  monthly_bill = calculate_telephone_bill(num_calls)\n",
        "  print(\"Monthly Telephone bill Rs: \", monthly_bill)"
      ]
    }
  ]
}