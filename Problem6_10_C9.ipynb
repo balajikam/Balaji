{
  "nbformat": 4,
  "nbformat_minor": 0,
  "metadata": {
    "colab": {
      "provenance": [],
      "authorship_tag": "ABX9TyP5xdnwywubK8J/5o8wiEDc",
      "include_colab_link": true
    },
    "kernelspec": {
      "name": "python3",
      "display_name": "Python 3"
    },
    "language_info": {
      "name": "python"
    }
  },
  "cells": [
    {
      "cell_type": "markdown",
      "metadata": {
        "id": "view-in-github",
        "colab_type": "text"
      },
      "source": [
        "<a href=\"https://colab.research.google.com/github/balajikam/Balaji-PythonAssessment/blob/main/Problem6_10_C9.ipynb\" target=\"_parent\"><img src=\"https://colab.research.google.com/assets/colab-badge.svg\" alt=\"Open In Colab\"/></a>"
      ]
    },
    {
      "cell_type": "code",
      "execution_count": 36,
      "metadata": {
        "colab": {
          "base_uri": "https://localhost:8080/"
        },
        "id": "U37UtVa4OsMT",
        "outputId": "94e69bfe-1a76-4c92-a2c1-b58e2993dd53"
      },
      "outputs": [
        {
          "output_type": "stream",
          "name": "stdout",
          "text": [
            "Account Title : Ashish\n",
            "Account Balance:  5000\n",
            "Savings Account Title: Ashish\n",
            "Savings Account Balance: 5000\n",
            "Interest Rate: 5\n"
          ]
        }
      ],
      "source": [
        "class Account:\n",
        "  def __init__(self, title=None, balance=0):\n",
        "      self.title = title\n",
        "      self.balance = balance\n",
        "\n",
        "class SavingsAccount(Account):\n",
        "  def __init__(self, title=None, balance = 0, interestRate=0):\n",
        "    super().__init__(title,balance)\n",
        "    self.interestRate = interestRate\n",
        "\n",
        "account_obj = Account(\"Ashish\", 5000)\n",
        "savings_account_obj = SavingsAccount(\"Ashish\", 5000, 5)\n",
        "print(\"Account Title :\", account_obj.title)\n",
        "print(\"Account Balance: \", account_obj.balance)\n",
        "print(\"Savings Account Title:\", savings_account_obj.title)\n",
        "print(\"Savings Account Balance:\", savings_account_obj.balance)\n",
        "print(\"Interest Rate:\", savings_account_obj.interestRate)\n"
      ]
    }
  ]
}