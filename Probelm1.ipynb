{
  "nbformat": 4,
  "nbformat_minor": 0,
  "metadata": {
    "colab": {
      "provenance": [],
      "authorship_tag": "ABX9TyNc5LezPNordFglMdVru0cz",
      "include_colab_link": true
    },
    "kernelspec": {
      "name": "python3",
      "display_name": "Python 3"
    },
    "language_info": {
      "name": "python"
    }
  },
  "cells": [
    {
      "cell_type": "markdown",
      "metadata": {
        "id": "view-in-github",
        "colab_type": "text"
      },
      "source": [
        "<a href=\"https://colab.research.google.com/github/balajikam/Balaji/blob/main/Probelm1.ipynb\" target=\"_parent\"><img src=\"https://colab.research.google.com/assets/colab-badge.svg\" alt=\"Open In Colab\"/></a>"
      ]
    },
    {
      "cell_type": "code",
      "execution_count": 20,
      "metadata": {
        "colab": {
          "base_uri": "https://localhost:8080/"
        },
        "id": "U37UtVa4OsMT",
        "outputId": "0eed3603-0330-4817-c7c6-d206b2022487"
      },
      "outputs": [
        {
          "output_type": "stream",
          "name": "stdout",
          "text": [
            "Enter transaction log:D:100 W:200 D:400\n",
            "Net amount: 300\n"
          ]
        }
      ],
      "source": [
        "class BankAccount:\n",
        "  def __init__(self):\n",
        "    self.balance = 0\n",
        "\n",
        "  def process_transaction(self, transaction):\n",
        "    transactions = transaction.split()\n",
        "    for t in transactions:\n",
        "      if t[0] == 'D':\n",
        "        self.balance += int(t[2:])\n",
        "      elif t[0]== 'W':\n",
        "        self.balance -= int(t[2:])\n",
        "\n",
        "  def get_balance(self):\n",
        "    return self.balance\n",
        "\n",
        "if __name__ == \"__main__\":\n",
        "  log_message = input(\"Enter transaction log:\")\n",
        "  account= BankAccount()\n",
        "  account.process_transaction(log_message)\n",
        "  net_amount = account.get_balance()\n",
        "  print(\"Net amount:\", net_amount)"
      ]
    }
  ]
}