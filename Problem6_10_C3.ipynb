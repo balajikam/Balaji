{
  "nbformat": 4,
  "nbformat_minor": 0,
  "metadata": {
    "colab": {
      "provenance": [],
      "authorship_tag": "ABX9TyO3SjQRtZEuI0y5r9uG/i6G",
      "include_colab_link": true
    },
    "kernelspec": {
      "name": "python3",
      "display_name": "Python 3"
    },
    "language_info": {
      "name": "python"
    }
  },
  "cells": [
    {
      "cell_type": "markdown",
      "metadata": {
        "id": "view-in-github",
        "colab_type": "text"
      },
      "source": [
        "<a href=\"https://colab.research.google.com/github/balajikam/Balaji/blob/main/Problem6_10_C3.ipynb\" target=\"_parent\"><img src=\"https://colab.research.google.com/assets/colab-badge.svg\" alt=\"Open In Colab\"/></a>"
      ]
    },
    {
      "cell_type": "code",
      "execution_count": 33,
      "metadata": {
        "colab": {
          "base_uri": "https://localhost:8080/"
        },
        "id": "U37UtVa4OsMT",
        "outputId": "4a2054c5-3f43-4556-fd95-be53bdd165b7"
      },
      "outputs": [
        {
          "output_type": "stream",
          "name": "stdout",
          "text": [
            "Name: Balaji K\n",
            "Roll Number: 1001\n"
          ]
        }
      ],
      "source": [
        "class Student:\n",
        "  def __init__(self):\n",
        "    self._name = None\n",
        "    self._rollNumber = None\n",
        "\n",
        "  def getName(self):\n",
        "    return self._name\n",
        "\n",
        "  def setName(self,name):\n",
        "    self._name = name\n",
        "\n",
        "  def getRollNumber(self):\n",
        "    return self._rollNumber\n",
        "\n",
        "  def setRollNumber(self,rollNumber):\n",
        "    self._rollNumber = rollNumber\n",
        "\n",
        "student_instance = Student()\n",
        "student_instance.setName(\"Balaji K\")\n",
        "student_instance.setRollNumber(\"1001\")\n",
        "\n",
        "print(\"Name:\", student_instance.getName())\n",
        "print(\"Roll Number:\", student_instance.getRollNumber())"
      ]
    }
  ]
}