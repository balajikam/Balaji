{
  "nbformat": 4,
  "nbformat_minor": 0,
  "metadata": {
    "colab": {
      "provenance": [],
      "authorship_tag": "ABX9TyPvLY6vmN2HY9N9aAFw8bSO",
      "include_colab_link": true
    },
    "kernelspec": {
      "name": "python3",
      "display_name": "Python 3"
    },
    "language_info": {
      "name": "python"
    }
  },
  "cells": [
    {
      "cell_type": "markdown",
      "metadata": {
        "id": "view-in-github",
        "colab_type": "text"
      },
      "source": [
        "<a href=\"https://colab.research.google.com/github/balajikam/Balaji-PythonAssessment/blob/main/Problem6_10_C10.ipynb\" target=\"_parent\"><img src=\"https://colab.research.google.com/assets/colab-badge.svg\" alt=\"Open In Colab\"/></a>"
      ]
    },
    {
      "cell_type": "code",
      "execution_count": 44,
      "metadata": {
        "colab": {
          "base_uri": "https://localhost:8080/"
        },
        "id": "U37UtVa4OsMT",
        "outputId": "a4d1349d-00d1-4ce3-e1d4-b5f0d2b663d7"
      },
      "outputs": [
        {
          "output_type": "stream",
          "name": "stdout",
          "text": [
            "After Deposit:  2500\n",
            "After withdrawal: 2000\n",
            "Interest amount: 100.0\n"
          ]
        }
      ],
      "source": [
        "class Account:\n",
        "  def __init__(self, title=None, balance=0):\n",
        "      self.title = title\n",
        "      self.balance = balance\n",
        "\n",
        "  def withdrawal(self, amount):\n",
        "    self.balance -= amount\n",
        "\n",
        "  def deposit(self, amount):\n",
        "    self.balance += amount\n",
        "\n",
        "  def getBalance(self):\n",
        "    return self.balance\n",
        "\n",
        "class SavingsAccount(Account):\n",
        "  def __init__(self, title=None, balance = 0, interestRate=0):\n",
        "    super().__init__(title,balance)\n",
        "    self.interestRate = interestRate\n",
        "\n",
        "  def interestAmount(self):\n",
        "    return(self.interestRate * self.balance)/100\n",
        "\n",
        "demo1 = SavingsAccount(\"Ashish\", 2000, 5)\n",
        "demo1.deposit(500)\n",
        "print(\"After Deposit: \", demo1.getBalance())\n",
        "demo1.withdrawal(500)\n",
        "print(\"After withdrawal:\", demo1.getBalance())\n",
        "print(\"Interest amount:\", demo1.interestAmount())"
      ]
    }
  ]
}