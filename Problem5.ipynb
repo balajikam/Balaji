{
  "nbformat": 4,
  "nbformat_minor": 0,
  "metadata": {
    "colab": {
      "provenance": [],
      "authorship_tag": "ABX9TyNZ8+5FNMkmlfkbtQEqMkgm",
      "include_colab_link": true
    },
    "kernelspec": {
      "name": "python3",
      "display_name": "Python 3"
    },
    "language_info": {
      "name": "python"
    }
  },
  "cells": [
    {
      "cell_type": "markdown",
      "metadata": {
        "id": "view-in-github",
        "colab_type": "text"
      },
      "source": [
        "<a href=\"https://colab.research.google.com/github/balajikam/Balaji/blob/main/Problem5.ipynb\" target=\"_parent\"><img src=\"https://colab.research.google.com/assets/colab-badge.svg\" alt=\"Open In Colab\"/></a>"
      ]
    },
    {
      "cell_type": "code",
      "execution_count": 29,
      "metadata": {
        "colab": {
          "base_uri": "https://localhost:8080/"
        },
        "id": "U37UtVa4OsMT",
        "outputId": "a8ca98b0-3d99-4f71-80db-f74d1e8d275f"
      },
      "outputs": [
        {
          "output_type": "stream",
          "name": "stdout",
          "text": [
            "No of Upper case characters:  6\n",
            "No of lower case characters:  41\n"
          ]
        }
      ],
      "source": [
        "def count_case_characters(input_string):\n",
        "    uppercase_count = 0\n",
        "    lowercase_count = 0\n",
        "\n",
        "    for char in input_string:\n",
        "      if char.isupper():\n",
        "        uppercase_count +=1\n",
        "      elif char.islower():\n",
        "        lowercase_count +=1\n",
        "    return uppercase_count, lowercase_count\n",
        "\n",
        "sample_string = \"My name is Balaji, I am working in Maveric Systems Company\"\n",
        "uppercase_count, lowercase_count = count_case_characters(sample_string)\n",
        "\n",
        "print(\"No of Upper case characters: \", uppercase_count)\n",
        "print(\"No of lower case characters: \", lowercase_count)"
      ]
    }
  ]
}