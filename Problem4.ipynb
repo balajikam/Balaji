{
  "nbformat": 4,
  "nbformat_minor": 0,
  "metadata": {
    "colab": {
      "provenance": [],
      "authorship_tag": "ABX9TyNylLn9Va+zk3tQ6bahr74a",
      "include_colab_link": true
    },
    "kernelspec": {
      "name": "python3",
      "display_name": "Python 3"
    },
    "language_info": {
      "name": "python"
    }
  },
  "cells": [
    {
      "cell_type": "markdown",
      "metadata": {
        "id": "view-in-github",
        "colab_type": "text"
      },
      "source": [
        "<a href=\"https://colab.research.google.com/github/balajikam/Balaji-PythonAssessment/blob/main/Problem4.ipynb\" target=\"_parent\"><img src=\"https://colab.research.google.com/assets/colab-badge.svg\" alt=\"Open In Colab\"/></a>"
      ]
    },
    {
      "cell_type": "code",
      "execution_count": 45,
      "metadata": {
        "colab": {
          "base_uri": "https://localhost:8080/"
        },
        "id": "U37UtVa4OsMT",
        "outputId": "82bb5dfd-0a16-4221-e666-c2704060787a"
      },
      "outputs": [
        {
          "output_type": "stream",
          "name": "stdout",
          "text": [
            "Reversed string value:  dcba4321\n"
          ]
        }
      ],
      "source": [
        "def reverse_string(input_string):\n",
        "  return input_string[::-1]\n",
        "\n",
        "sample_string = \"1234abcd\"\n",
        "finalValue = reverse_string(sample_string)\n",
        "print(\"Reversed string value: \", finalValue)"
      ]
    }
  ]
}